{
 "cells": [
  {
   "cell_type": "code",
   "execution_count": 2,
   "metadata": {},
   "outputs": [],
   "source": [
    "import numpy as np\n",
    "from brownian_ot.simulation import FreeDiffusionSimulation\n",
    "from brownian_ot.particles.particle import Sphere\n"
   ]
  },
  {
   "cell_type": "code",
   "execution_count": 4,
   "metadata": {},
   "outputs": [],
   "source": [
    "sphere = Sphere(a = 1e-6) "
   ]
  },
  {
   "cell_type": "code",
   "execution_count": 5,
   "metadata": {},
   "outputs": [],
   "source": [
    "sim = FreeDiffusionSimulation(sphere, 5e-5, 1e-3, 1.38e-23 * 295)"
   ]
  },
  {
   "cell_type": "code",
   "execution_count": 6,
   "metadata": {},
   "outputs": [],
   "source": [
    "sim = FreeDiffusionSimulation(sphere, 1e-5, 1e-3, 1.38e-23 * 295,\n",
    "                                 pos0 = np.array([-1, 0.5, -0.7]) * 1e-6,\n",
    "\t\t\t\t orient0 = np.array([[1, 0, 0],\n",
    "                                                    [0, -1, 0],\n",
    "\t\t\t\t                    [0, 0, -1]]),\n",
    "\t\t\t         seed = 123456789)"
   ]
  },
  {
   "cell_type": "code",
   "execution_count": 7,
   "metadata": {},
   "outputs": [],
   "source": [
    "traj = sim.run(1000)"
   ]
  },
  {
   "cell_type": "code",
   "execution_count": 8,
   "metadata": {},
   "outputs": [
    {
     "name": "stdout",
     "output_type": "stream",
     "text": [
      "(1001, 7)\n"
     ]
    }
   ],
   "source": [
    "print(traj.shape)"
   ]
  },
  {
   "cell_type": "code",
   "execution_count": 9,
   "metadata": {},
   "outputs": [
    {
     "data": {
      "text/plain": [
       "array([[-9.53910751e-07,  4.06827454e-07, -6.88652133e-07, ...,\n",
       "        -9.95149608e-01, -5.34387075e-02, -7.38166231e-02],\n",
       "       [-9.53220558e-07,  4.07128575e-07, -6.84420239e-07, ...,\n",
       "        -9.95142694e-01, -5.37752531e-02, -7.42682367e-02],\n",
       "       [-9.51495541e-07,  4.08998375e-07, -6.85942622e-07, ...,\n",
       "        -9.95032975e-01, -5.55650306e-02, -7.42236972e-02],\n",
       "       ...,\n",
       "       [-9.38964944e-07,  4.74558154e-07, -5.82215655e-07, ...,\n",
       "         9.96011559e-01,  4.87761814e-02,  7.46723702e-02],\n",
       "       [-9.40818377e-07,  4.72015665e-07, -5.80831278e-07, ...,\n",
       "         9.95855846e-01,  4.84028336e-02,  7.69797714e-02],\n",
       "       [-9.41783292e-07,  4.73779145e-07, -5.80387270e-07, ...,\n",
       "        -9.95823087e-01, -4.91143553e-02, -7.69630382e-02]])"
      ]
     },
     "execution_count": 9,
     "metadata": {},
     "output_type": "execute_result"
    }
   ],
   "source": [
    "sim.run(1000, 'my_trajectory')"
   ]
  },
  {
   "cell_type": "code",
   "execution_count": 10,
   "metadata": {},
   "outputs": [],
   "source": [
    "from brownian_ot.simulation import ConstantForceSimulation"
   ]
  },
  {
   "cell_type": "code",
   "execution_count": 11,
   "metadata": {},
   "outputs": [],
   "source": [
    "const_f_sim = ConstantForceSimulation(sphere, sim.timestep,\n",
    "                                          np.array([0, 0, -2e-12, 0, 0, 0]),\n",
    "                                          sim.viscosity, sim.kT)\n"
   ]
  },
  {
   "cell_type": "code",
   "execution_count": 12,
   "metadata": {},
   "outputs": [
    {
     "data": {
      "text/plain": [
       "array([[ 0.00000000e+00,  0.00000000e+00,  0.00000000e+00, ...,\n",
       "        -0.00000000e+00, -0.00000000e+00, -0.00000000e+00],\n",
       "       [-7.81598602e-10,  4.58293200e-09, -6.44832930e-10, ...,\n",
       "        -7.11968550e-05,  3.84858617e-04, -7.69388550e-05],\n",
       "       [-1.24328387e-09,  2.80647370e-09, -2.29323395e-09, ...,\n",
       "        -3.91109306e-04, -1.28337776e-03,  4.39542409e-04],\n",
       "       ...,\n",
       "       [-9.01001817e-08, -1.61430677e-08, -4.73192634e-07, ...,\n",
       "        -2.15925542e-02, -2.13832329e-03,  1.51546483e-02],\n",
       "       [-8.72135942e-08, -1.49650218e-08, -4.73592202e-07, ...,\n",
       "        -2.17497264e-02, -2.54997729e-03,  1.53491639e-02],\n",
       "       [-8.48608581e-08, -1.51013590e-08, -4.73598283e-07, ...,\n",
       "         2.12864333e-02,  2.49939478e-03, -1.56535684e-02]])"
      ]
     },
     "execution_count": 12,
     "metadata": {},
     "output_type": "execute_result"
    }
   ],
   "source": [
    "const_f_sim.run(500)"
   ]
  },
  {
   "cell_type": "code",
   "execution_count": 13,
   "metadata": {},
   "outputs": [
    {
     "data": {
      "text/plain": [
       "array([0.e+00, 0.e+00, 0.e+00, 0.e+00, 0.e+00, 3.e-18])"
      ]
     },
     "execution_count": 13,
     "metadata": {},
     "output_type": "execute_result"
    }
   ],
   "source": [
    "np.array([0, 0, 0, 0, 0, 3e-18])"
   ]
  }
 ],
 "metadata": {
  "kernelspec": {
   "display_name": "ot_sim",
   "language": "python",
   "name": "python3"
  },
  "language_info": {
   "codemirror_mode": {
    "name": "ipython",
    "version": 3
   },
   "file_extension": ".py",
   "mimetype": "text/x-python",
   "name": "python",
   "nbconvert_exporter": "python",
   "pygments_lexer": "ipython3",
   "version": "3.11.5"
  },
  "orig_nbformat": 4
 },
 "nbformat": 4,
 "nbformat_minor": 2
}
