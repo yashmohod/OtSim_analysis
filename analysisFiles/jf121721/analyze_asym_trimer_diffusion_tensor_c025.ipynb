{
 "cells": [
  {
   "cell_type": "markdown",
   "id": "6255a14c",
   "metadata": {},
   "source": [
    "# December 17, 2021\n",
    "\n",
    "Analyze diffusion tensors calculated by BEST on 7/30/21 for $c=0.25$ by extrapolation to $1/N = 0$.\n",
    "\n",
    "This notebook parallels `jf080321/analyze_diffusion_tensor.ipynb` which examined the diffusion tensors for $c=0.5$."
   ]
  },
  {
   "cell_type": "code",
   "execution_count": 1,
   "id": "09ee25b3",
   "metadata": {},
   "outputs": [],
   "source": [
    "import numpy as np\n",
    "import matplotlib.pyplot as plt\n",
    "%matplotlib inline\n",
    "\n",
    "import sys\n",
    "sys.path.append('/Users/jfung/code/best_dev/')\n",
    "from read_best_output import read_best_file"
   ]
  },
  {
   "cell_type": "code",
   "execution_count": 2,
   "id": "59d0aacf",
   "metadata": {},
   "outputs": [],
   "source": [
    "import glob"
   ]
  },
  {
   "cell_type": "code",
   "execution_count": 3,
   "id": "ba249fcc",
   "metadata": {},
   "outputs": [],
   "source": [
    "best_files = glob.glob('../jf073021/*.be')"
   ]
  },
  {
   "cell_type": "code",
   "execution_count": 4,
   "id": "8135ce49",
   "metadata": {},
   "outputs": [
    {
     "data": {
      "text/plain": [
       "['../jf073021/asym_trimer_073021_c025_8568.be',\n",
       " '../jf073021/asym_trimer_073021_c025_6588.be',\n",
       " '../jf073021/asym_trimer_073021_c025_2628.be',\n",
       " '../jf073021/asym_trimer_073021_c025_5268.be',\n",
       " '../jf073021/asym_trimer_073021_c025_1308.be',\n",
       " '../jf073021/asym_trimer_073021_c025_3948.be',\n",
       " '../jf073021/asym_trimer_073021_c025_7908.be']"
      ]
     },
     "execution_count": 4,
     "metadata": {},
     "output_type": "execute_result"
    }
   ],
   "source": [
    "best_files"
   ]
  },
  {
   "cell_type": "code",
   "execution_count": 5,
   "id": "a7ecd101",
   "metadata": {},
   "outputs": [],
   "source": [
    "best_files.sort()"
   ]
  },
  {
   "cell_type": "code",
   "execution_count": 6,
   "id": "c67e2c85",
   "metadata": {},
   "outputs": [
    {
     "data": {
      "text/plain": [
       "['../jf073021/asym_trimer_073021_c025_1308.be',\n",
       " '../jf073021/asym_trimer_073021_c025_2628.be',\n",
       " '../jf073021/asym_trimer_073021_c025_3948.be',\n",
       " '../jf073021/asym_trimer_073021_c025_5268.be',\n",
       " '../jf073021/asym_trimer_073021_c025_6588.be',\n",
       " '../jf073021/asym_trimer_073021_c025_7908.be',\n",
       " '../jf073021/asym_trimer_073021_c025_8568.be']"
      ]
     },
     "execution_count": 6,
     "metadata": {},
     "output_type": "execute_result"
    }
   ],
   "source": [
    "best_files"
   ]
  },
  {
   "cell_type": "code",
   "execution_count": 7,
   "id": "009ed9a8",
   "metadata": {},
   "outputs": [],
   "source": [
    "n_triangles = []\n",
    "dtts = []\n",
    "dtrs = []\n",
    "drrs = []\n",
    "centroids = []\n",
    "rcrs = []\n",
    "rcds = []"
   ]
  },
  {
   "cell_type": "code",
   "execution_count": 8,
   "id": "a92b8cee",
   "metadata": {},
   "outputs": [],
   "source": [
    "for fname in best_files:\n",
    "    n_t, dtt, dtr, drr, centroid, rcr, rcd = read_best_file(fname)\n",
    "    n_triangles.append(n_t)\n",
    "    dtts.append(dtt)\n",
    "    dtrs.append(dtr)\n",
    "    drrs.append(drr)\n",
    "    centroids.append(centroid)\n",
    "    rcrs.append(rcr)\n",
    "    rcds.append(rcd)"
   ]
  },
  {
   "cell_type": "code",
   "execution_count": 9,
   "id": "436edbd6",
   "metadata": {},
   "outputs": [
    {
     "data": {
      "text/plain": [
       "[1308, 2628, 3948, 5268, 6588, 7908, 8568]"
      ]
     },
     "execution_count": 9,
     "metadata": {},
     "output_type": "execute_result"
    }
   ],
   "source": [
    "n_triangles"
   ]
  },
  {
   "cell_type": "code",
   "execution_count": 10,
   "id": "f4333f29",
   "metadata": {},
   "outputs": [],
   "source": [
    "n_triangles = np.array(n_triangles)"
   ]
  },
  {
   "cell_type": "code",
   "execution_count": 11,
   "id": "f6a35d11",
   "metadata": {},
   "outputs": [
    {
     "data": {
      "text/plain": [
       "array([1308, 2628, 3948, 5268, 6588, 7908, 8568])"
      ]
     },
     "execution_count": 11,
     "metadata": {},
     "output_type": "execute_result"
    }
   ],
   "source": [
    "n_triangles"
   ]
  },
  {
   "cell_type": "code",
   "execution_count": 12,
   "id": "52046acb",
   "metadata": {},
   "outputs": [
    {
     "data": {
      "text/plain": [
       "array([[ 9.2040e-01, -1.4722e-07,  1.4630e-07],\n",
       "       [-1.3743e-07,  9.1762e-01,  1.2328e-08],\n",
       "       [ 1.3083e-07, -9.0675e-08,  1.0336e+00]])"
      ]
     },
     "execution_count": 12,
     "metadata": {},
     "output_type": "execute_result"
    }
   ],
   "source": [
    "dtts[-1]"
   ]
  },
  {
   "cell_type": "markdown",
   "id": "90fdc284",
   "metadata": {},
   "source": [
    "By symmetry (see my PhD thesis, or Happel & Brenner), the following holds:\n",
    "\n",
    "* $D_{tt}$ and $D_{rr}$ are both diagonal\n",
    "* $D_{tr}$ has only two nonzero elements"
   ]
  },
  {
   "cell_type": "markdown",
   "id": "e901365b",
   "metadata": {},
   "source": [
    "Start with $D_{tt}$:"
   ]
  },
  {
   "cell_type": "code",
   "execution_count": 13,
   "id": "913ce29c",
   "metadata": {},
   "outputs": [
    {
     "data": {
      "text/plain": [
       "[<matplotlib.lines.Line2D at 0x7fdb6e31b9d0>]"
      ]
     },
     "execution_count": 13,
     "metadata": {},
     "output_type": "execute_result"
    },
    {
     "data": {
      "image/png": "[encoded data removed]",
      "text/plain": [
       "<Figure size 432x288 with 1 Axes>"
      ]
     },
     "metadata": {
      "needs_background": "light"
     },
     "output_type": "display_data"
    }
   ],
   "source": [
    "plt.plot(1/n_triangles, np.array([dtt[0,0] for dtt in dtts]), 'o')"
   ]
  },
  {
   "cell_type": "code",
   "execution_count": 14,
   "id": "bdba9ab3",
   "metadata": {},
   "outputs": [],
   "source": [
    "from scipy.stats import linregress"
   ]
  },
  {
   "cell_type": "code",
   "execution_count": 24,
   "id": "eb2eb9a7",
   "metadata": {},
   "outputs": [
    {
     "name": "stdout",
     "output_type": "stream",
     "text": [
      "LinregressResult(slope=6.1269211589061525, intercept=0.9196856280495341, rvalue=0.9997613278476511, pvalue=8.5439796552713e-08, stderr=0.06694311547278574, intercept_stderr=1.4909884261575923e-05)\n"
     ]
    }
   ],
   "source": [
    "dtt11_fit = linregress(1/n_triangles[1:], np.array([dtt[0,0] for dtt in dtts[1:]]))\n",
    "print(dtt11_fit)"
   ]
  },
  {
   "cell_type": "code",
   "execution_count": 25,
   "id": "04d482a1",
   "metadata": {},
   "outputs": [
    {
     "data": {
      "text/plain": [
       "[<matplotlib.lines.Line2D at 0x7fdb6f236f10>]"
      ]
     },
     "execution_count": 25,
     "metadata": {},
     "output_type": "execute_result"
    },
    {
     "data": {
      "image/png": "[encoded data removed]",
      "text/plain": [
       "<Figure size 432x288 with 1 Axes>"
      ]
     },
     "metadata": {
      "needs_background": "light"
     },
     "output_type": "display_data"
    }
   ],
   "source": [
    "plt.plot(1/n_triangles, np.array([dtt[0,0] for dtt in dtts]), 'o')\n",
    "plt.plot(1/n_triangles, dtt11_fit.intercept + dtt11_fit.slope / n_triangles)"
   ]
  },
  {
   "cell_type": "code",
   "execution_count": 28,
   "id": "7cff318f",
   "metadata": {},
   "outputs": [
    {
     "name": "stdout",
     "output_type": "stream",
     "text": [
      "LinregressResult(slope=6.558021223584151, intercept=0.9168530720300563, rvalue=0.999803787911482, pvalue=5.774499851830757e-08, stderr=0.06496577414322983, intercept_stderr=1.4469481538142855e-05)\n"
     ]
    }
   ],
   "source": [
    "dtt22_fit = linregress(1/n_triangles[1:], np.array([dtt[1,1] for dtt in dtts[1:]]))\n",
    "print(dtt22_fit)"
   ]
  },
  {
   "cell_type": "code",
   "execution_count": 29,
   "id": "95e64209",
   "metadata": {},
   "outputs": [
    {
     "data": {
      "text/plain": [
       "[<matplotlib.lines.Line2D at 0x7fdb6f11c640>]"
      ]
     },
     "execution_count": 29,
     "metadata": {},
     "output_type": "execute_result"
    },
    {
     "data": {
      "image/png": "[encoded data removed]",
      "text/plain": [
       "<Figure size 432x288 with 1 Axes>"
      ]
     },
     "metadata": {
      "needs_background": "light"
     },
     "output_type": "display_data"
    }
   ],
   "source": [
    "plt.plot(1/n_triangles, np.array([dtt[1,1] for dtt in dtts]), 'o')\n",
    "plt.plot(1/n_triangles, dtt22_fit.intercept + dtt22_fit.slope / n_triangles)"
   ]
  },
  {
   "cell_type": "code",
   "execution_count": 30,
   "id": "118b5440",
   "metadata": {},
   "outputs": [
    {
     "name": "stdout",
     "output_type": "stream",
     "text": [
      "LinregressResult(slope=7.559060323154094, intercept=1.0327480952595842, rvalue=0.9994366371134898, pvalue=4.759772134251856e-07, stderr=0.12692012441115322, intercept_stderr=2.826824464428177e-05)\n"
     ]
    }
   ],
   "source": [
    "dtt33_fit = linregress(1/n_triangles[1:], np.array([dtt[2,2] for dtt in dtts[1:]]))\n",
    "print(dtt33_fit)"
   ]
  },
  {
   "cell_type": "code",
   "execution_count": 31,
   "id": "321a5626",
   "metadata": {},
   "outputs": [
    {
     "data": {
      "text/plain": [
       "[<matplotlib.lines.Line2D at 0x7fdb6f4abdc0>]"
      ]
     },
     "execution_count": 31,
     "metadata": {},
     "output_type": "execute_result"
    },
    {
     "data": {
      "image/png": "[encoded data removed]",
      "text/plain": [
       "<Figure size 432x288 with 1 Axes>"
      ]
     },
     "metadata": {
      "needs_background": "light"
     },
     "output_type": "display_data"
    }
   ],
   "source": [
    "plt.plot(1/n_triangles, np.array([dtt[2,2] for dtt in dtts]), 'o')\n",
    "plt.plot(1/n_triangles, dtt33_fit.intercept + dtt33_fit.slope / n_triangles)"
   ]
  },
  {
   "cell_type": "code",
   "execution_count": 32,
   "id": "ebc77157",
   "metadata": {},
   "outputs": [],
   "source": [
    "dtt_diag = np.array([dtt11_fit.intercept, dtt22_fit.intercept, dtt33_fit.intercept])"
   ]
  },
  {
   "cell_type": "code",
   "execution_count": 33,
   "id": "4dc298b2",
   "metadata": {},
   "outputs": [
    {
     "data": {
      "text/plain": [
       "array([0.91968563, 0.91685307, 1.0327481 ])"
      ]
     },
     "execution_count": 33,
     "metadata": {},
     "output_type": "execute_result"
    }
   ],
   "source": [
    "dtt_diag"
   ]
  },
  {
   "cell_type": "markdown",
   "id": "e366793c",
   "metadata": {},
   "source": [
    "Now let's do $D_{rr}$."
   ]
  },
  {
   "cell_type": "code",
   "execution_count": 34,
   "id": "fd7f856b",
   "metadata": {},
   "outputs": [
    {
     "data": {
      "text/plain": [
       "[<matplotlib.lines.Line2D at 0x7fdb6f624430>]"
      ]
     },
     "execution_count": 34,
     "metadata": {},
     "output_type": "execute_result"
    },
    {
     "data": {
      "image/png": "[encoded data removed]",
      "text/plain": [
       "<Figure size 432x288 with 1 Axes>"
      ]
     },
     "metadata": {
      "needs_background": "light"
     },
     "output_type": "display_data"
    }
   ],
   "source": [
    "plt.plot(1/n_triangles, np.array([drr[0,0] for drr in drrs]), 'o')"
   ]
  },
  {
   "cell_type": "code",
   "execution_count": 35,
   "id": "e7b7eb2e",
   "metadata": {},
   "outputs": [],
   "source": [
    "drr11_fit = linregress(1/n_triangles[1:], np.array([drr[0,0] for drr in drrs[1:]]))\n",
    "drr22_fit = linregress(1/n_triangles[1:], np.array([drr[1,1] for drr in drrs[1:]]))\n",
    "drr33_fit = linregress(1/n_triangles[1:], np.array([drr[2,2] for drr in drrs[1:]]))"
   ]
  },
  {
   "cell_type": "code",
   "execution_count": 36,
   "id": "77b20f8d",
   "metadata": {},
   "outputs": [
    {
     "data": {
      "text/plain": [
       "[<matplotlib.lines.Line2D at 0x7fdb6f6ac9a0>]"
      ]
     },
     "execution_count": 36,
     "metadata": {},
     "output_type": "execute_result"
    },
    {
     "data": {
      "image/png": "[encoded data removed]",
      "text/plain": [
       "<Figure size 432x288 with 1 Axes>"
      ]
     },
     "metadata": {
      "needs_background": "light"
     },
     "output_type": "display_data"
    }
   ],
   "source": [
    "plt.plot(1/n_triangles, np.array([drr[0,0] for drr in drrs]), 'o')\n",
    "plt.plot(1/n_triangles, drr11_fit.intercept + drr11_fit.slope / n_triangles)"
   ]
  },
  {
   "cell_type": "code",
   "execution_count": 37,
   "id": "011e2d16",
   "metadata": {},
   "outputs": [
    {
     "data": {
      "text/plain": [
       "[<matplotlib.lines.Line2D at 0x7fdb6f7f4af0>]"
      ]
     },
     "execution_count": 37,
     "metadata": {},
     "output_type": "execute_result"
    },
    {
     "data": {
      "image/png": "[encoded data removed]",
      "text/plain": [
       "<Figure size 432x288 with 1 Axes>"
      ]
     },
     "metadata": {
      "needs_background": "light"
     },
     "output_type": "display_data"
    }
   ],
   "source": [
    "plt.plot(1/n_triangles, np.array([drr[1,1] for drr in drrs]), 'o')\n",
    "plt.plot(1/n_triangles, drr22_fit.intercept + drr22_fit.slope / n_triangles)"
   ]
  },
  {
   "cell_type": "code",
   "execution_count": 38,
   "id": "2976c053",
   "metadata": {},
   "outputs": [
    {
     "data": {
      "text/plain": [
       "[<matplotlib.lines.Line2D at 0x7fdb6f87ebe0>]"
      ]
     },
     "execution_count": 38,
     "metadata": {},
     "output_type": "execute_result"
    },
    {
     "data": {
      "image/png": "[encoded data removed]",
      "text/plain": [
       "<Figure size 432x288 with 1 Axes>"
      ]
     },
     "metadata": {
      "needs_background": "light"
     },
     "output_type": "display_data"
    }
   ],
   "source": [
    "plt.plot(1/n_triangles, np.array([drr[2,2] for drr in drrs]), 'o')\n",
    "plt.plot(1/n_triangles, drr33_fit.intercept + drr33_fit.slope / n_triangles)"
   ]
  },
  {
   "cell_type": "code",
   "execution_count": 39,
   "id": "5dd444e7",
   "metadata": {},
   "outputs": [],
   "source": [
    "drr_diag = np.array([drr11_fit.intercept, drr22_fit.intercept, drr33_fit.intercept])"
   ]
  },
  {
   "cell_type": "code",
   "execution_count": 40,
   "id": "f0de729f",
   "metadata": {},
   "outputs": [
    {
     "data": {
      "text/plain": [
       "array([0.26737808, 0.26722888, 0.54958732])"
      ]
     },
     "execution_count": 40,
     "metadata": {},
     "output_type": "execute_result"
    }
   ],
   "source": [
    "drr_diag"
   ]
  },
  {
   "cell_type": "markdown",
   "id": "4fb51176",
   "metadata": {},
   "source": [
    "And now let's do $D_{tr}$."
   ]
  },
  {
   "cell_type": "code",
   "execution_count": 41,
   "id": "02dfc1ea",
   "metadata": {},
   "outputs": [
    {
     "data": {
      "text/plain": [
       "[<matplotlib.lines.Line2D at 0x7fdb6f9cd130>]"
      ]
     },
     "execution_count": 41,
     "metadata": {},
     "output_type": "execute_result"
    },
    {
     "data": {
      "image/png": "[encoded data removed]",
      "text/plain": [
       "<Figure size 432x288 with 1 Axes>"
      ]
     },
     "metadata": {
      "needs_background": "light"
     },
     "output_type": "display_data"
    }
   ],
   "source": [
    "plt.plot(1/n_triangles, np.array([dtr[1,2] for dtr in dtrs]), 'o')"
   ]
  },
  {
   "cell_type": "code",
   "execution_count": 42,
   "id": "4a747ca3",
   "metadata": {},
   "outputs": [
    {
     "data": {
      "text/plain": [
       "[<matplotlib.lines.Line2D at 0x7fdb6faaaee0>]"
      ]
     },
     "execution_count": 42,
     "metadata": {},
     "output_type": "execute_result"
    },
    {
     "data": {
      "image/png": "[encoded data removed]",
      "text/plain": [
       "<Figure size 432x288 with 1 Axes>"
      ]
     },
     "metadata": {
      "needs_background": "light"
     },
     "output_type": "display_data"
    }
   ],
   "source": [
    "plt.plot(1/n_triangles, np.array([dtr[2,1] for dtr in dtrs]), 'o')"
   ]
  },
  {
   "cell_type": "code",
   "execution_count": 36,
   "id": "8960f866",
   "metadata": {},
   "outputs": [
    {
     "data": {
      "text/plain": [
       "array([[ 2.7278e-11,  2.9844e-09,  4.0214e-06],\n",
       "       [ 8.3532e-08, -6.3317e-08,  1.2759e-02],\n",
       "       [ 4.0313e-06,  1.2759e-02, -2.2887e-05]])"
      ]
     },
     "execution_count": 36,
     "metadata": {},
     "output_type": "execute_result"
    }
   ],
   "source": [
    "dtrs[-3]"
   ]
  },
  {
   "cell_type": "markdown",
   "id": "abd2607f",
   "metadata": {},
   "source": [
    "I think the code explicitly makes $D_{tr}$ symmetric..."
   ]
  },
  {
   "cell_type": "code",
   "execution_count": 45,
   "id": "e96833fd",
   "metadata": {},
   "outputs": [],
   "source": [
    "dtr_fit = linregress(1/n_triangles[1:], np.array([dtr[1,2] for dtr in dtrs[1:]]))"
   ]
  },
  {
   "cell_type": "code",
   "execution_count": 46,
   "id": "f7ab693c",
   "metadata": {},
   "outputs": [
    {
     "data": {
      "text/plain": [
       "[<matplotlib.lines.Line2D at 0x7fdb6fc98190>]"
      ]
     },
     "execution_count": 46,
     "metadata": {},
     "output_type": "execute_result"
    },
    {
     "data": {
      "image/png": "[encoded data removed]",
      "text/plain": [
       "<Figure size 432x288 with 1 Axes>"
      ]
     },
     "metadata": {
      "needs_background": "light"
     },
     "output_type": "display_data"
    }
   ],
   "source": [
    "plt.plot(1/n_triangles, np.array([dtr[1,2] for dtr in dtrs]), 'o')\n",
    "plt.plot(1/n_triangles, dtr_fit.intercept + dtr_fit.slope/n_triangles)"
   ]
  },
  {
   "cell_type": "code",
   "execution_count": 47,
   "id": "bc57ed2e",
   "metadata": {},
   "outputs": [
    {
     "data": {
      "text/plain": [
       "array([[0.        , 0.        , 0.        ],\n",
       "       [0.        , 0.        , 0.00642332],\n",
       "       [0.        , 0.00642332, 0.        ]])"
      ]
     },
     "execution_count": 47,
     "metadata": {},
     "output_type": "execute_result"
    }
   ],
   "source": [
    "dtr_extrapolated = np.zeros((3,3))\n",
    "dtr_extrapolated[1,2] = dtr_fit.intercept\n",
    "dtr_extrapolated[2,1] = dtr_fit.intercept\n",
    "dtr_extrapolated"
   ]
  },
  {
   "cell_type": "markdown",
   "id": "3bee49e4",
   "metadata": {},
   "source": [
    "Save the results."
   ]
  },
  {
   "cell_type": "code",
   "execution_count": 48,
   "id": "bb11f043",
   "metadata": {},
   "outputs": [
    {
     "name": "stdout",
     "output_type": "stream",
     "text": [
      "[0.91968563 0.91685307 1.0327481 ]\n",
      "[0.26737808 0.26722888 0.54958732]\n",
      "[[0.         0.         0.        ]\n",
      " [0.         0.         0.00642332]\n",
      " [0.         0.00642332 0.        ]]\n"
     ]
    }
   ],
   "source": [
    "print(dtt_diag)\n",
    "np.save('asym_trimer_c025_dtt_diag.npy', dtt_diag)\n",
    "print(drr_diag)\n",
    "np.save('asym_trimer_c025_drr_diag.npy', drr_diag)\n",
    "print(dtr_extrapolated)\n",
    "np.save('asym_trimer_c025_dtr.npy', dtr_extrapolated)"
   ]
  },
  {
   "cell_type": "markdown",
   "id": "49fbbd0c",
   "metadata": {},
   "source": [
    "We also need the center of diffusion..."
   ]
  },
  {
   "cell_type": "code",
   "execution_count": 49,
   "id": "919bd466",
   "metadata": {},
   "outputs": [
    {
     "data": {
      "text/plain": [
       "[array([ 1.4957e-02, -2.4192e-05,  2.0750e-16]),\n",
       " array([ 1.5853e-02, -4.9604e-05, -1.4401e-16]),\n",
       " array([ 1.6242e-02, -2.5568e-05, -7.9931e-17]),\n",
       " array([ 1.6392e-02, -2.0471e-05, -9.1704e-16]),\n",
       " array([ 1.6502e-02, -7.3525e-06,  2.3124e-16]),\n",
       " array([ 1.6573e-02, -1.2955e-05,  1.3128e-16]),\n",
       " array([ 1.6606e-02, -6.9284e-06,  2.3104e-16])]"
      ]
     },
     "execution_count": 49,
     "metadata": {},
     "output_type": "execute_result"
    }
   ],
   "source": [
    "centroids"
   ]
  },
  {
   "cell_type": "code",
   "execution_count": 50,
   "id": "7a0fee85",
   "metadata": {},
   "outputs": [
    {
     "data": {
      "text/plain": [
       "[array([ 1.0872e-02, -2.5047e-05,  3.6486e-08]),\n",
       " array([ 1.1237e-02, -2.5151e-05, -8.4303e-09]),\n",
       " array([ 1.1404e-02, -1.7928e-05, -7.1427e-09]),\n",
       " array([ 1.1461e-02, -1.0241e-05, -1.3922e-08]),\n",
       " array([ 1.1507e-02, -5.3482e-06,  4.0027e-09]),\n",
       " array([ 1.1536e-02, -6.5074e-06,  1.0044e-08]),\n",
       " array([ 1.1551e-02, -4.9589e-06, -6.2766e-09])]"
      ]
     },
     "execution_count": 50,
     "metadata": {},
     "output_type": "execute_result"
    }
   ],
   "source": [
    "rcds"
   ]
  },
  {
   "cell_type": "markdown",
   "id": "0ceb3118",
   "metadata": {},
   "source": [
    "We're given the centroids (relative to origin), CRs (relative to centroid), and CDs (relative to centroid). Add up all these vectors to get CD relative to origin."
   ]
  },
  {
   "cell_type": "code",
   "execution_count": 51,
   "id": "877e3ffc",
   "metadata": {},
   "outputs": [],
   "source": [
    "r_cd_origins = np.array([cen + rcr + rcd for (cen, rcr, rcd) in zip(centroids, rcrs, rcds)])"
   ]
  },
  {
   "cell_type": "code",
   "execution_count": 52,
   "id": "eaaa867f",
   "metadata": {},
   "outputs": [
    {
     "data": {
      "text/plain": [
       "array([[ 8.80200000e-03, -1.67430000e-05, -8.07131400e-06],\n",
       "       [ 9.48500000e-03, -3.85330000e-05,  6.67929700e-07],\n",
       "       [ 9.77900000e-03, -1.75400000e-05, -1.38382700e-07],\n",
       "       [ 9.89500000e-03, -1.58730000e-05,  1.06767999e-07],\n",
       "       [ 9.98000000e-03, -5.17130000e-06,  2.67582700e-07],\n",
       "       [ 1.00340000e-02, -1.00248000e-05, -1.81949999e-08],\n",
       "       [ 1.00590000e-02, -4.78150000e-06, -1.08234998e-08]])"
      ]
     },
     "execution_count": 52,
     "metadata": {},
     "output_type": "execute_result"
    }
   ],
   "source": [
    "r_cd_origins"
   ]
  },
  {
   "cell_type": "code",
   "execution_count": 55,
   "id": "173f99bd",
   "metadata": {},
   "outputs": [
    {
     "data": {
      "text/plain": [
       "[<matplotlib.lines.Line2D at 0x7fdb6fcf3070>]"
      ]
     },
     "execution_count": 55,
     "metadata": {},
     "output_type": "execute_result"
    },
    {
     "data": {
      "image/png": "[encoded data removed]",
      "text/plain": [
       "<Figure size 432x288 with 1 Axes>"
      ]
     },
     "metadata": {
      "needs_background": "light"
     },
     "output_type": "display_data"
    }
   ],
   "source": [
    "plt.plot(1/n_triangles, r_cd_origins[:,0], 'o')"
   ]
  },
  {
   "cell_type": "code",
   "execution_count": 56,
   "id": "b858808c",
   "metadata": {},
   "outputs": [],
   "source": [
    "cd_fit = linregress(1/n_triangles[1:], r_cd_origins[1:,0])"
   ]
  },
  {
   "cell_type": "code",
   "execution_count": 57,
   "id": "5a57655a",
   "metadata": {},
   "outputs": [
    {
     "data": {
      "text/plain": [
       "[<matplotlib.lines.Line2D at 0x7fdb700c82b0>]"
      ]
     },
     "execution_count": 57,
     "metadata": {},
     "output_type": "execute_result"
    },
    {
     "data": {
      "image/png": "[encoded data removed]",
      "text/plain": [
       "<Figure size 432x288 with 1 Axes>"
      ]
     },
     "metadata": {
      "needs_background": "light"
     },
     "output_type": "display_data"
    }
   ],
   "source": [
    "plt.plot(1/n_triangles, r_cd_origins[:,0], 'o')\n",
    "plt.plot(1/n_triangles, cd_fit.intercept + cd_fit.slope/n_triangles)"
   ]
  },
  {
   "cell_type": "code",
   "execution_count": 58,
   "id": "4576b9e7",
   "metadata": {},
   "outputs": [],
   "source": [
    "extrapolated_cd = np.array([cd_fit.intercept, 0, 0])"
   ]
  },
  {
   "cell_type": "code",
   "execution_count": 59,
   "id": "a3ce3278",
   "metadata": {},
   "outputs": [
    {
     "data": {
      "text/plain": [
       "array([0.01030842, 0.        , 0.        ])"
      ]
     },
     "execution_count": 59,
     "metadata": {},
     "output_type": "execute_result"
    }
   ],
   "source": [
    "extrapolated_cd"
   ]
  },
  {
   "cell_type": "code",
   "execution_count": 60,
   "id": "99396629",
   "metadata": {},
   "outputs": [
    {
     "data": {
      "text/plain": [
       "array([[0.91968563, 0.        , 0.        ],\n",
       "       [0.        , 0.91685307, 0.        ],\n",
       "       [0.        , 0.        , 1.0327481 ]])"
      ]
     },
     "execution_count": 60,
     "metadata": {},
     "output_type": "execute_result"
    }
   ],
   "source": [
    "np.diag(dtt_diag)"
   ]
  },
  {
   "cell_type": "code",
   "execution_count": 61,
   "id": "e9e86647",
   "metadata": {},
   "outputs": [],
   "source": [
    "np.savetxt('asym_trimer_c025_dtt.txt', np.diag(dtt_diag))"
   ]
  },
  {
   "cell_type": "code",
   "execution_count": 62,
   "id": "2283d350",
   "metadata": {},
   "outputs": [],
   "source": [
    "np.savetxt('asym_trimer_c025_drr.txt', np.diag(drr_diag))\n",
    "np.savetxt('asym_trimer_c025_dtr.txt', dtr_extrapolated)\n",
    "np.savetxt('asym_trimer_c025_cd.txt', extrapolated_cd)\n",
    "np.save('asym_trimer_c025_cd.npy', extrapolated_cd)"
   ]
  },
  {
   "cell_type": "markdown",
   "id": "5e1a8b9a",
   "metadata": {},
   "source": [
    "Done with analysis!"
   ]
  },
  {
   "cell_type": "code",
   "execution_count": null,
   "id": "9f36cee0",
   "metadata": {},
   "outputs": [],
   "source": []
  }
 ],
 "metadata": {
  "kernelspec": {
   "display_name": "Python 3",
   "language": "python",
   "name": "python3"
  },
  "language_info": {
   "codemirror_mode": {
    "name": "ipython",
    "version": 3
   },
   "file_extension": ".py",
   "mimetype": "text/x-python",
   "name": "python",
   "nbconvert_exporter": "python",
   "pygments_lexer": "ipython3",
   "version": "3.8.10"
  }
 },
 "nbformat": 4,
 "nbformat_minor": 5
}
