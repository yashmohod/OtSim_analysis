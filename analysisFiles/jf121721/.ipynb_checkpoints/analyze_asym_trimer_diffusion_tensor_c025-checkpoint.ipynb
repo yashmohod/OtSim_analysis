{
 "cells": [
  {
   "cell_type": "markdown",
   "id": "6255a14c",
   "metadata": {},
   "source": [
    "# December 17, 2021\n",
    "\n",
    "Analyze diffusion tensors calculated by BEST on 7/30/21 for $c=0.25$ by extrapolation to $1/N = 0$.\n",
    "\n",
    "This notebook parallels `jf080321/analyze_diffusion_tensor.ipynb` which examined the diffusion tensors for $c=0.5$."
   ]
  },
  {
   "cell_type": "code",
   "execution_count": 1,
   "id": "09ee25b3",
   "metadata": {},
   "outputs": [],
   "source": [
    "import numpy as np\n",
    "import matplotlib.pyplot as plt\n",
    "%matplotlib inline\n",
    "\n",
    "import sys\n",
    "sys.path.append('/Users/jfung/code/best_dev/')\n",
    "from read_best_output import read_best_file"
   ]
  },
  {
   "cell_type": "code",
   "execution_count": 2,
   "id": "59d0aacf",
   "metadata": {},
   "outputs": [],
   "source": [
    "import glob"
   ]
  },
  {
   "cell_type": "code",
   "execution_count": 3,
   "id": "ba249fcc",
   "metadata": {},
   "outputs": [],
   "source": [
    "best_files = glob.glob('../jf073021/*.be')"
   ]
  },
  {
   "cell_type": "code",
   "execution_count": 4,
   "id": "8135ce49",
   "metadata": {},
   "outputs": [
    {
     "data": {
      "text/plain": [
       "['../jf073021/asym_trimer_073021_c025_8568.be',\n",
       " '../jf073021/asym_trimer_073021_c025_6588.be',\n",
       " '../jf073021/asym_trimer_073021_c025_2628.be',\n",
       " '../jf073021/asym_trimer_073021_c025_5268.be',\n",
       " '../jf073021/asym_trimer_073021_c025_1308.be',\n",
       " '../jf073021/asym_trimer_073021_c025_3948.be',\n",
       " '../jf073021/asym_trimer_073021_c025_7908.be']"
      ]
     },
     "execution_count": 4,
     "metadata": {},
     "output_type": "execute_result"
    }
   ],
   "source": [
    "best_files"
   ]
  },
  {
   "cell_type": "code",
   "execution_count": 5,
   "id": "a7ecd101",
   "metadata": {},
   "outputs": [],
   "source": [
    "best_files.sort()"
   ]
  },
  {
   "cell_type": "code",
   "execution_count": 6,
   "id": "c67e2c85",
   "metadata": {},
   "outputs": [
    {
     "data": {
      "text/plain": [
       "['../jf073021/asym_trimer_073021_c025_1308.be',\n",
       " '../jf073021/asym_trimer_073021_c025_2628.be',\n",
       " '../jf073021/asym_trimer_073021_c025_3948.be',\n",
       " '../jf073021/asym_trimer_073021_c025_5268.be',\n",
       " '../jf073021/asym_trimer_073021_c025_6588.be',\n",
       " '../jf073021/asym_trimer_073021_c025_7908.be',\n",
       " '../jf073021/asym_trimer_073021_c025_8568.be']"
      ]
     },
     "execution_count": 6,
     "metadata": {},
     "output_type": "execute_result"
    }
   ],
   "source": [
    "best_files"
   ]
  },
  {
   "cell_type": "code",
   "execution_count": 7,
   "id": "009ed9a8",
   "metadata": {},
   "outputs": [],
   "source": [
    "n_triangles = []\n",
    "dtts = []\n",
    "dtrs = []\n",
    "drrs = []\n",
    "centroids = []\n",
    "rcrs = []\n",
    "rcds = []"
   ]
  },
  {
   "cell_type": "code",
   "execution_count": 8,
   "id": "a92b8cee",
   "metadata": {},
   "outputs": [],
   "source": [
    "for fname in best_files:\n",
    "    n_t, dtt, dtr, drr, centroid, rcr, rcd = read_best_file(fname)\n",
    "    n_triangles.append(n_t)\n",
    "    dtts.append(dtt)\n",
    "    dtrs.append(dtr)\n",
    "    drrs.append(drr)\n",
    "    centroids.append(centroid)\n",
    "    rcrs.append(rcr)\n",
    "    rcds.append(rcd)"
   ]
  },
  {
   "cell_type": "code",
   "execution_count": 9,
   "id": "436edbd6",
   "metadata": {},
   "outputs": [
    {
     "data": {
      "text/plain": [
       "[1308, 2628, 3948, 5268, 6588, 7908, 8568]"
      ]
     },
     "execution_count": 9,
     "metadata": {},
     "output_type": "execute_result"
    }
   ],
   "source": [
    "n_triangles"
   ]
  },
  {
   "cell_type": "code",
   "execution_count": 10,
   "id": "f4333f29",
   "metadata": {},
   "outputs": [],
   "source": [
    "n_triangles = np.array(n_triangles)"
   ]
  },
  {
   "cell_type": "code",
   "execution_count": 13,
   "id": "f6a35d11",
   "metadata": {},
   "outputs": [
    {
     "data": {
      "text/plain": [
       "array([ 888, 1428, 2868, 4308, 5748, 7188, 8088])"
      ]
     },
     "execution_count": 13,
     "metadata": {},
     "output_type": "execute_result"
    }
   ],
   "source": [
    "n_triangles"
   ]
  },
  {
   "cell_type": "code",
   "execution_count": 14,
   "id": "52046acb",
   "metadata": {},
   "outputs": [
    {
     "data": {
      "text/plain": [
       "array([[ 9.1430e-01, -3.3981e-07, -1.1661e-07],\n",
       "       [-2.6042e-07,  8.8987e-01,  6.7808e-06],\n",
       "       [-1.1381e-07,  2.6871e-06,  1.0062e+00]])"
      ]
     },
     "execution_count": 14,
     "metadata": {},
     "output_type": "execute_result"
    }
   ],
   "source": [
    "dtts[-1]"
   ]
  },
  {
   "cell_type": "markdown",
   "id": "90fdc284",
   "metadata": {},
   "source": [
    "By symmetry (see my PhD thesis, or Happel & Brenner), the following holds:\n",
    "\n",
    "* $D_{tt}$ and $D_{rr}$ are both diagonal\n",
    "* $D_{tr}$ has only two nonzero elements"
   ]
  },
  {
   "cell_type": "markdown",
   "id": "e901365b",
   "metadata": {},
   "source": [
    "Start with $D_{tt}$:"
   ]
  },
  {
   "cell_type": "code",
   "execution_count": 16,
   "id": "913ce29c",
   "metadata": {},
   "outputs": [
    {
     "data": {
      "text/plain": [
       "[<matplotlib.lines.Line2D at 0x1176e86a0>]"
      ]
     },
     "execution_count": 16,
     "metadata": {},
     "output_type": "execute_result"
    },
    {
     "data": {
      "image/png": "[encoded data removed]",
      "text/plain": [
       "<Figure size 432x288 with 1 Axes>"
      ]
     },
     "metadata": {
      "needs_background": "light"
     },
     "output_type": "display_data"
    }
   ],
   "source": [
    "plt.plot(1/n_triangles, np.array([dtt[0,0] for dtt in dtts]), 'o')"
   ]
  },
  {
   "cell_type": "code",
   "execution_count": 17,
   "id": "bdba9ab3",
   "metadata": {},
   "outputs": [],
   "source": [
    "from scipy.stats import linregress"
   ]
  },
  {
   "cell_type": "code",
   "execution_count": 18,
   "id": "eb2eb9a7",
   "metadata": {},
   "outputs": [],
   "source": [
    "dtt11_fit = linregress(1/n_triangles, np.array([dtt[0,0] for dtt in dtts]))"
   ]
  },
  {
   "cell_type": "code",
   "execution_count": 19,
   "id": "04d482a1",
   "metadata": {},
   "outputs": [
    {
     "data": {
      "text/plain": [
       "[<matplotlib.lines.Line2D at 0x119e12e20>]"
      ]
     },
     "execution_count": 19,
     "metadata": {},
     "output_type": "execute_result"
    },
    {
     "data": {
      "image/png": "[encoded data removed]",
      "text/plain": [
       "<Figure size 432x288 with 1 Axes>"
      ]
     },
     "metadata": {
      "needs_background": "light"
     },
     "output_type": "display_data"
    }
   ],
   "source": [
    "plt.plot(1/n_triangles, np.array([dtt[0,0] for dtt in dtts]), 'o')\n",
    "plt.plot(1/n_triangles, dtt11_fit.intercept + dtt11_fit.slope / n_triangles)"
   ]
  },
  {
   "cell_type": "code",
   "execution_count": 20,
   "id": "7cff318f",
   "metadata": {},
   "outputs": [],
   "source": [
    "dtt22_fit = linregress(1/n_triangles, np.array([dtt[1,1] for dtt in dtts]))"
   ]
  },
  {
   "cell_type": "code",
   "execution_count": 21,
   "id": "95e64209",
   "metadata": {},
   "outputs": [
    {
     "data": {
      "text/plain": [
       "[<matplotlib.lines.Line2D at 0x119e5efa0>]"
      ]
     },
     "execution_count": 21,
     "metadata": {},
     "output_type": "execute_result"
    },
    {
     "data": {
      "image/png": "[encoded data removed]",
      "text/plain": [
       "<Figure size 432x288 with 1 Axes>"
      ]
     },
     "metadata": {
      "needs_background": "light"
     },
     "output_type": "display_data"
    }
   ],
   "source": [
    "plt.plot(1/n_triangles, np.array([dtt[1,1] for dtt in dtts]), 'o')\n",
    "plt.plot(1/n_triangles, dtt22_fit.intercept + dtt22_fit.slope / n_triangles)"
   ]
  },
  {
   "cell_type": "code",
   "execution_count": 22,
   "id": "118b5440",
   "metadata": {},
   "outputs": [],
   "source": [
    "dtt33_fit = linregress(1/n_triangles, np.array([dtt[2,2] for dtt in dtts]))"
   ]
  },
  {
   "cell_type": "code",
   "execution_count": 23,
   "id": "321a5626",
   "metadata": {},
   "outputs": [
    {
     "data": {
      "text/plain": [
       "[<matplotlib.lines.Line2D at 0x119fa81f0>]"
      ]
     },
     "execution_count": 23,
     "metadata": {},
     "output_type": "execute_result"
    },
    {
     "data": {
      "image/png": "[encoded data removed]",
      "text/plain": [
       "<Figure size 432x288 with 1 Axes>"
      ]
     },
     "metadata": {
      "needs_background": "light"
     },
     "output_type": "display_data"
    }
   ],
   "source": [
    "plt.plot(1/n_triangles, np.array([dtt[2,2] for dtt in dtts]), 'o')\n",
    "plt.plot(1/n_triangles, dtt33_fit.intercept + dtt33_fit.slope / n_triangles)"
   ]
  },
  {
   "cell_type": "code",
   "execution_count": 24,
   "id": "ebc77157",
   "metadata": {},
   "outputs": [],
   "source": [
    "dtt_diag = np.array([dtt11_fit.intercept, dtt22_fit.intercept, dtt33_fit.intercept])"
   ]
  },
  {
   "cell_type": "code",
   "execution_count": 25,
   "id": "4dc298b2",
   "metadata": {},
   "outputs": [
    {
     "data": {
      "text/plain": [
       "array([0.91347899, 0.88902694, 1.00518221])"
      ]
     },
     "execution_count": 25,
     "metadata": {},
     "output_type": "execute_result"
    }
   ],
   "source": [
    "dtt_diag"
   ]
  },
  {
   "cell_type": "markdown",
   "id": "e366793c",
   "metadata": {},
   "source": [
    "Now let's do $D_{rr}$."
   ]
  },
  {
   "cell_type": "code",
   "execution_count": 26,
   "id": "fd7f856b",
   "metadata": {},
   "outputs": [
    {
     "data": {
      "text/plain": [
       "[<matplotlib.lines.Line2D at 0x119d3cd90>]"
      ]
     },
     "execution_count": 26,
     "metadata": {},
     "output_type": "execute_result"
    },
    {
     "data": {
      "image/png": "[encoded data removed]",
      "text/plain": [
       "<Figure size 432x288 with 1 Axes>"
      ]
     },
     "metadata": {
      "needs_background": "light"
     },
     "output_type": "display_data"
    }
   ],
   "source": [
    "plt.plot(1/n_triangles, np.array([drr[0,0] for drr in drrs]), 'o')"
   ]
  },
  {
   "cell_type": "code",
   "execution_count": 27,
   "id": "e7b7eb2e",
   "metadata": {},
   "outputs": [],
   "source": [
    "drr11_fit = linregress(1/n_triangles, np.array([drr[0,0] for drr in drrs]))\n",
    "drr22_fit = linregress(1/n_triangles, np.array([drr[1,1] for drr in drrs]))\n",
    "drr33_fit = linregress(1/n_triangles, np.array([drr[2,2] for drr in drrs]))"
   ]
  },
  {
   "cell_type": "code",
   "execution_count": 28,
   "id": "77b20f8d",
   "metadata": {},
   "outputs": [
    {
     "data": {
      "text/plain": [
       "[<matplotlib.lines.Line2D at 0x119fd1ee0>]"
      ]
     },
     "execution_count": 28,
     "metadata": {},
     "output_type": "execute_result"
    },
    {
     "data": {
      "image/png": "[encoded data removed]",
      "text/plain": [
       "<Figure size 432x288 with 1 Axes>"
      ]
     },
     "metadata": {
      "needs_background": "light"
     },
     "output_type": "display_data"
    }
   ],
   "source": [
    "plt.plot(1/n_triangles, np.array([drr[0,0] for drr in drrs]), 'o')\n",
    "plt.plot(1/n_triangles, drr11_fit.intercept + drr11_fit.slope / n_triangles)"
   ]
  },
  {
   "cell_type": "code",
   "execution_count": 29,
   "id": "011e2d16",
   "metadata": {},
   "outputs": [
    {
     "data": {
      "text/plain": [
       "[<matplotlib.lines.Line2D at 0x11a07f220>]"
      ]
     },
     "execution_count": 29,
     "metadata": {},
     "output_type": "execute_result"
    },
    {
     "data": {
      "image/png": "[encoded data removed]",
      "text/plain": [
       "<Figure size 432x288 with 1 Axes>"
      ]
     },
     "metadata": {
      "needs_background": "light"
     },
     "output_type": "display_data"
    }
   ],
   "source": [
    "plt.plot(1/n_triangles, np.array([drr[1,1] for drr in drrs]), 'o')\n",
    "plt.plot(1/n_triangles, drr22_fit.intercept + drr22_fit.slope / n_triangles)"
   ]
  },
  {
   "cell_type": "code",
   "execution_count": 30,
   "id": "2976c053",
   "metadata": {},
   "outputs": [
    {
     "data": {
      "text/plain": [
       "[<matplotlib.lines.Line2D at 0x11a2b5850>]"
      ]
     },
     "execution_count": 30,
     "metadata": {},
     "output_type": "execute_result"
    },
    {
     "data": {
      "image/png": "[encoded data removed]",
      "text/plain": [
       "<Figure size 432x288 with 1 Axes>"
      ]
     },
     "metadata": {
      "needs_background": "light"
     },
     "output_type": "display_data"
    }
   ],
   "source": [
    "plt.plot(1/n_triangles, np.array([drr[2,2] for drr in drrs]), 'o')\n",
    "plt.plot(1/n_triangles, drr33_fit.intercept + drr33_fit.slope / n_triangles)"
   ]
  },
  {
   "cell_type": "code",
   "execution_count": 31,
   "id": "5dd444e7",
   "metadata": {},
   "outputs": [],
   "source": [
    "drr_diag = np.array([drr11_fit.intercept, drr22_fit.intercept, drr33_fit.intercept])"
   ]
  },
  {
   "cell_type": "code",
   "execution_count": 32,
   "id": "f0de729f",
   "metadata": {},
   "outputs": [
    {
     "data": {
      "text/plain": [
       "array([0.26622588, 0.25668841, 0.47750981])"
      ]
     },
     "execution_count": 32,
     "metadata": {},
     "output_type": "execute_result"
    }
   ],
   "source": [
    "drr_diag"
   ]
  },
  {
   "cell_type": "markdown",
   "id": "4fb51176",
   "metadata": {},
   "source": [
    "And now let's do $D_{tr}$."
   ]
  },
  {
   "cell_type": "code",
   "execution_count": 33,
   "id": "02dfc1ea",
   "metadata": {},
   "outputs": [
    {
     "data": {
      "text/plain": [
       "[<matplotlib.lines.Line2D at 0x11a3f0c40>]"
      ]
     },
     "execution_count": 33,
     "metadata": {},
     "output_type": "execute_result"
    },
    {
     "data": {
      "image/png": "[encoded data removed]",
      "text/plain": [
       "<Figure size 432x288 with 1 Axes>"
      ]
     },
     "metadata": {
      "needs_background": "light"
     },
     "output_type": "display_data"
    }
   ],
   "source": [
    "plt.plot(1/n_triangles, np.array([dtr[1,2] for dtr in dtrs]), 'o')"
   ]
  },
  {
   "cell_type": "code",
   "execution_count": 34,
   "id": "4a747ca3",
   "metadata": {},
   "outputs": [
    {
     "data": {
      "text/plain": [
       "[<matplotlib.lines.Line2D at 0x11a4df310>]"
      ]
     },
     "execution_count": 34,
     "metadata": {},
     "output_type": "execute_result"
    },
    {
     "data": {
      "image/png": "[encoded data removed]",
      "text/plain": [
       "<Figure size 432x288 with 1 Axes>"
      ]
     },
     "metadata": {
      "needs_background": "light"
     },
     "output_type": "display_data"
    }
   ],
   "source": [
    "plt.plot(1/n_triangles, np.array([dtr[2,1] for dtr in dtrs]), 'o')"
   ]
  },
  {
   "cell_type": "code",
   "execution_count": 36,
   "id": "8960f866",
   "metadata": {},
   "outputs": [
    {
     "data": {
      "text/plain": [
       "array([[ 2.7278e-11,  2.9844e-09,  4.0214e-06],\n",
       "       [ 8.3532e-08, -6.3317e-08,  1.2759e-02],\n",
       "       [ 4.0313e-06,  1.2759e-02, -2.2887e-05]])"
      ]
     },
     "execution_count": 36,
     "metadata": {},
     "output_type": "execute_result"
    }
   ],
   "source": [
    "dtrs[-3]"
   ]
  },
  {
   "cell_type": "markdown",
   "id": "abd2607f",
   "metadata": {},
   "source": [
    "I think the code explicitly makes $D_{tr}$ symmetric..."
   ]
  },
  {
   "cell_type": "code",
   "execution_count": 37,
   "id": "e96833fd",
   "metadata": {},
   "outputs": [],
   "source": [
    "dtr_fit = linregress(1/n_triangles, np.array([dtr[1,2] for dtr in dtrs]))"
   ]
  },
  {
   "cell_type": "code",
   "execution_count": 38,
   "id": "f7ab693c",
   "metadata": {},
   "outputs": [
    {
     "data": {
      "text/plain": [
       "[<matplotlib.lines.Line2D at 0x11a5d0070>]"
      ]
     },
     "execution_count": 38,
     "metadata": {},
     "output_type": "execute_result"
    },
    {
     "data": {
      "image/png": "[encoded data removed]",
      "text/plain": [
       "<Figure size 432x288 with 1 Axes>"
      ]
     },
     "metadata": {
      "needs_background": "light"
     },
     "output_type": "display_data"
    }
   ],
   "source": [
    "plt.plot(1/n_triangles, np.array([dtr[1,2] for dtr in dtrs]), 'o')\n",
    "plt.plot(1/n_triangles, dtr_fit.intercept + dtr_fit.slope/n_triangles)"
   ]
  },
  {
   "cell_type": "code",
   "execution_count": 39,
   "id": "bc57ed2e",
   "metadata": {},
   "outputs": [
    {
     "data": {
      "text/plain": [
       "array([[0.        , 0.        , 0.        ],\n",
       "       [0.        , 0.        , 0.01270464],\n",
       "       [0.        , 0.01270464, 0.        ]])"
      ]
     },
     "execution_count": 39,
     "metadata": {},
     "output_type": "execute_result"
    }
   ],
   "source": [
    "dtr_extrapolated = np.zeros((3,3))\n",
    "dtr_extrapolated[1,2] = dtr_fit.intercept\n",
    "dtr_extrapolated[2,1] = dtr_fit.intercept\n",
    "dtr_extrapolated"
   ]
  },
  {
   "cell_type": "markdown",
   "id": "3bee49e4",
   "metadata": {},
   "source": [
    "Save the results."
   ]
  },
  {
   "cell_type": "code",
   "execution_count": 40,
   "id": "bb11f043",
   "metadata": {},
   "outputs": [
    {
     "name": "stdout",
     "output_type": "stream",
     "text": [
      "[0.91347899 0.88902694 1.00518221]\n",
      "[0.26622588 0.25668841 0.47750981]\n",
      "[[0.         0.         0.        ]\n",
      " [0.         0.         0.01270464]\n",
      " [0.         0.01270464 0.        ]]\n"
     ]
    }
   ],
   "source": [
    "print(dtt_diag)\n",
    "np.save('asym_trimer_c050_dtt_diag.npy', dtt_diag)\n",
    "print(drr_diag)\n",
    "np.save('asym_trimer_c050_drr_diag.npy', drr_diag)\n",
    "print(dtr_extrapolated)\n",
    "np.save('asym_trimer_c050_dtr.npy', dtr_extrapolated)"
   ]
  },
  {
   "cell_type": "markdown",
   "id": "49fbbd0c",
   "metadata": {},
   "source": [
    "We also need the center of diffusion..."
   ]
  },
  {
   "cell_type": "code",
   "execution_count": 41,
   "id": "919bd466",
   "metadata": {},
   "outputs": [
    {
     "data": {
      "text/plain": [
       "[array([5.5219e-02, 2.0482e-05, 4.1383e-16]),\n",
       " array([5.6409e-02, 4.3454e-06, 1.8764e-16]),\n",
       " array([ 5.7400e-02, -4.8555e-05, -1.3417e-16]),\n",
       " array([ 5.7793e-02, -1.8937e-05, -7.3638e-17]),\n",
       " array([ 5.7944e-02, -1.6112e-05, -8.3976e-16]),\n",
       " array([ 5.8044e-02, -4.5434e-06,  2.1197e-16]),\n",
       " array([ 5.8096e-02, -7.3786e-06,  9.7790e-17])]"
      ]
     },
     "execution_count": 41,
     "metadata": {},
     "output_type": "execute_result"
    }
   ],
   "source": [
    "centroids"
   ]
  },
  {
   "cell_type": "code",
   "execution_count": 42,
   "id": "7a0fee85",
   "metadata": {},
   "outputs": [
    {
     "data": {
      "text/plain": [
       "[array([2.6500e-02, 1.1733e-05, 2.4803e-07]),\n",
       " array([2.6606e-02, 4.5090e-06, 1.3803e-07]),\n",
       " array([ 2.6558e-02, -3.0401e-05, -6.6083e-09]),\n",
       " array([ 2.6612e-02, -1.3158e-05,  8.3809e-09]),\n",
       " array([ 2.6582e-02, -8.3786e-06, -6.1421e-09]),\n",
       " array([ 2.6586e-02, -3.7994e-06,  1.2573e-08]),\n",
       " array([ 2.6591e-02, -4.7084e-06,  8.7967e-09])]"
      ]
     },
     "execution_count": 42,
     "metadata": {},
     "output_type": "execute_result"
    }
   ],
   "source": [
    "rcds"
   ]
  },
  {
   "cell_type": "markdown",
   "id": "0ceb3118",
   "metadata": {},
   "source": [
    "We're given the centroids (relative to origin), CRs (relative to centroid), and CDs (relative to centroid). Add up all these vectors to get CD relative to origin."
   ]
  },
  {
   "cell_type": "code",
   "execution_count": 49,
   "id": "877e3ffc",
   "metadata": {},
   "outputs": [],
   "source": [
    "r_cd_origins = np.array([cen + rcr + rcd for (cen, rcr, rcd) in zip(centroids, rcrs, rcds)])"
   ]
  },
  {
   "cell_type": "code",
   "execution_count": 50,
   "id": "eaaa867f",
   "metadata": {},
   "outputs": [
    {
     "data": {
      "text/plain": [
       "array([[ 3.8675000e-02,  1.4169000e-05,  4.4334300e-06],\n",
       "       [ 3.9901000e-02,  1.3090000e-07, -3.2274700e-06],\n",
       "       [ 4.0967000e-02, -3.8559000e-05,  1.1951917e-06],\n",
       "       [ 4.1366000e-02, -1.4431000e-05, -3.2628910e-07],\n",
       "       [ 4.1535000e-02, -1.3161600e-05,  1.0194579e-06],\n",
       "       [ 4.1641000e-02, -3.5315000e-06,  2.7643300e-07],\n",
       "       [ 4.1691000e-02, -6.5674000e-06,  1.1571670e-07]])"
      ]
     },
     "execution_count": 50,
     "metadata": {},
     "output_type": "execute_result"
    }
   ],
   "source": [
    "r_cd_origins"
   ]
  },
  {
   "cell_type": "code",
   "execution_count": 51,
   "id": "173f99bd",
   "metadata": {},
   "outputs": [
    {
     "data": {
      "text/plain": [
       "[<matplotlib.lines.Line2D at 0x11ab8bc40>]"
      ]
     },
     "execution_count": 51,
     "metadata": {},
     "output_type": "execute_result"
    },
    {
     "data": {
      "image/png": "[encoded data removed]",
      "text/plain": [
       "<Figure size 432x288 with 1 Axes>"
      ]
     },
     "metadata": {
      "needs_background": "light"
     },
     "output_type": "display_data"
    }
   ],
   "source": [
    "plt.plot(1/n_triangles, r_cd_origins[:,0], 'o')"
   ]
  },
  {
   "cell_type": "code",
   "execution_count": 52,
   "id": "b858808c",
   "metadata": {},
   "outputs": [],
   "source": [
    "cd_fit = linregress(1/n_triangles, r_cd_origins[:,0])"
   ]
  },
  {
   "cell_type": "code",
   "execution_count": 53,
   "id": "5a57655a",
   "metadata": {},
   "outputs": [
    {
     "data": {
      "text/plain": [
       "[<matplotlib.lines.Line2D at 0x11ab3b340>]"
      ]
     },
     "execution_count": 53,
     "metadata": {},
     "output_type": "execute_result"
    },
    {
     "data": {
      "image/png": "[encoded data removed]",
      "text/plain": [
       "<Figure size 432x288 with 1 Axes>"
      ]
     },
     "metadata": {
      "needs_background": "light"
     },
     "output_type": "display_data"
    }
   ],
   "source": [
    "plt.plot(1/n_triangles, r_cd_origins[:,0], 'o')\n",
    "plt.plot(1/n_triangles, cd_fit.intercept + cd_fit.slope/n_triangles)"
   ]
  },
  {
   "cell_type": "code",
   "execution_count": 54,
   "id": "4576b9e7",
   "metadata": {},
   "outputs": [],
   "source": [
    "extrapolated_cd = np.array([cd_fit.intercept, 0, 0])"
   ]
  },
  {
   "cell_type": "code",
   "execution_count": 55,
   "id": "a3ce3278",
   "metadata": {},
   "outputs": [
    {
     "data": {
      "text/plain": [
       "array([0.04205311, 0.        , 0.        ])"
      ]
     },
     "execution_count": 55,
     "metadata": {},
     "output_type": "execute_result"
    }
   ],
   "source": [
    "extrapolated_cd"
   ]
  },
  {
   "cell_type": "code",
   "execution_count": 56,
   "id": "99396629",
   "metadata": {},
   "outputs": [
    {
     "data": {
      "text/plain": [
       "array([[0.91347899, 0.        , 0.        ],\n",
       "       [0.        , 0.88902694, 0.        ],\n",
       "       [0.        , 0.        , 1.00518221]])"
      ]
     },
     "execution_count": 56,
     "metadata": {},
     "output_type": "execute_result"
    }
   ],
   "source": [
    "np.diag(dtt_diag)"
   ]
  },
  {
   "cell_type": "code",
   "execution_count": 57,
   "id": "e9e86647",
   "metadata": {},
   "outputs": [],
   "source": [
    "np.savetxt('asym_trimer_c050_dtt.txt', np.diag(dtt_diag))"
   ]
  },
  {
   "cell_type": "code",
   "execution_count": 58,
   "id": "2283d350",
   "metadata": {},
   "outputs": [],
   "source": [
    "np.savetxt('asym_trimer_c050_drr.txt', np.diag(drr_diag))\n",
    "np.savetxt('asym_trimer_c050_dtr.txt', dtr_extrapolated)\n",
    "np.savetxt('asym_trimer_c050_cd.txt', extrapolated_cd)\n",
    "np.save('asym_trimer_c050_cd.npy', extrapolated_cd)"
   ]
  },
  {
   "cell_type": "markdown",
   "id": "5e1a8b9a",
   "metadata": {},
   "source": [
    "Done with analysis!"
   ]
  },
  {
   "cell_type": "code",
   "execution_count": null,
   "id": "9f36cee0",
   "metadata": {},
   "outputs": [],
   "source": []
  }
 ],
 "metadata": {
  "kernelspec": {
   "display_name": "Python 3",
   "language": "python",
   "name": "python3"
  },
  "language_info": {
   "codemirror_mode": {
    "name": "ipython",
    "version": 3
   },
   "file_extension": ".py",
   "mimetype": "text/x-python",
   "name": "python",
   "nbconvert_exporter": "python",
   "pygments_lexer": "ipython3",
   "version": "3.8.10"
  }
 },
 "nbformat": 4,
 "nbformat_minor": 5
}
